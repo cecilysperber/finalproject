{
 "cells": [
  {
   "cell_type": "markdown",
   "metadata": {},
   "source": [
    "# Project Proposals\n",
    "\n",
    "Cecily Sperber, Libby Prince, and Brandon Pizer\n",
    "\n",
    "# Project Proposals - Cecily Sperber\n",
    "\n",
    "# Idea One\n",
    "\n",
    "1.  Title - Impacts of Recycling Knowledge on Contamination Rates\n",
    "\n",
    "2.  Justification - Proper recycling pactices are cruical for effective waste management and environmental sustainability. A large portion of the population lack the sufficent knowledge about recycling practices which leads to high contamination rates in recycling waste systems. A study done by @rosenthal2021effects found that tailoring information can complement physical changes to promote proenvironmental actions by people. Another study by @avadi2022trace found that repeated application of properly recycling agricutlural waste can dramtically boost contaminantion levels.\n",
    "\n",
    "3.  Hypothesis - Higher levels of public knowledge about recycling standards are associated with lower contamination rates in recycling waste systems.\n",
    "\n",
    "4.  Methods - To gather data for this project we would use datasets from EPA recycling surveys and the UK Department of Environment, Food and Rural Affairs Waste and Recycling Statistics. The spatial scale will include national data from the EPA (United States) and DEFRA (Uk). The temporal scale will cover the most recent 5-10 years of available data to analyze trends over time. We will conduct a corelation analysis and possibly a time series analysis.\n",
    "\n",
    "5.  Expected Outcomes - We expect that regions with higher public knowledge of recycling methods will have significantly lower contamination rates in recycling waste systems. This is important because high contamination rates reduce efficiency of recycling programs, increase costs and can lead to more landfill.\n",
    "\n",
    "# Idea Two\n",
    "\n",
    "1.  Title -\n",
    "\n",
    "2.  Justification -\n",
    "\n",
    "3.  Hypothesis -\n",
    "\n",
    "4.  Methods -\n",
    "\n",
    "5.  Expected Outcomes -\n",
    "\n",
    "# Project Proposals - Libby Prince\n",
    "\n",
    "# Project Proposals - Brandon Pizer"
   ],
   "id": "7c86d292-6566-4022-9796-9b4264fe6f0b"
  }
 ],
 "nbformat": 4,
 "nbformat_minor": 5,
 "metadata": {}
}
